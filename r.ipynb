{
 "cells": [
  {
   "cell_type": "code",
   "execution_count": 8,
   "id": "405e813d",
   "metadata": {},
   "outputs": [
    {
     "name": "stdout",
     "output_type": "stream",
     "text": [
      "Heads Probability: 0.496\n",
      "Tails Probability: 0.504\n",
      "Probability of sum = 7: 0.1719\n",
      "Probability of at least one 6 in 10 rolls: 0.8362\n",
      "P(Red | Prev Blue): 0.22358722358722358\n"
     ]
    }
   ],
   "source": [
    "import random\n",
    "\n",
    "# a. Coin toss simulation\n",
    "coin_tosses = [random.choice(['Heads', 'Tails']) for _ in range(10000)]\n",
    "heads = coin_tosses.count('Heads')\n",
    "tails = coin_tosses.count('Tails')\n",
    "\n",
    "print(\"Heads Probability:\", heads / 10000)\n",
    "print(\"Tails Probability:\", tails / 10000)\n",
    "\n",
    "# b. Rolling two dice and checking sum = 7\n",
    "dice_sum_7 = 0\n",
    "for _ in range(10000):\n",
    "    if random.randint(1, 6) + random.randint(1, 6) == 7:\n",
    "        dice_sum_7 += 1\n",
    "print(\"Probability of sum = 7:\", dice_sum_7 / 10000)\n",
    "# question 2\n",
    "def prob_at_least_one_six(trials=10000):\n",
    "    success = 0\n",
    "    for _ in range(trials):\n",
    "        rolls = [random.randint(1, 6) for _ in range(10)]\n",
    "        if 6 in rolls:\n",
    "            success += 1\n",
    "    return success / trials\n",
    "\n",
    "print(\"Probability of at least one 6 in 10 rolls:\", prob_at_least_one_six())\n",
    "\n",
    "# question 3\n",
    "colors = ['Red']*5 + ['Green']*7 + ['Blue']*8\n",
    "prev_blue = 0\n",
    "red_given_prev_blue = 0\n",
    "\n",
    "for _ in range(1000):\n",
    "    first = random.choice(colors)\n",
    "    second = random.choice(colors)\n",
    "    if first == 'Blue':\n",
    "        prev_blue += 1\n",
    "        if second == 'Red':\n",
    "            red_given_prev_blue += 1\n",
    "\n",
    "if prev_blue > 0:\n",
    "    print(\"P(Red | Prev Blue):\", red_given_prev_blue / prev_blue)\n",
    "else:\n",
    "    print(\"No Blue appeared in first draw.\")\n",
    "\n"
   ]
  },
  {
   "cell_type": "code",
   "execution_count": 5,
   "id": "00f731d6",
   "metadata": {},
   "outputs": [
    {
     "name": "stdout",
     "output_type": "stream",
     "text": [
      "Mean: 2.165\n",
      "Variance: 0.6297749999999999\n",
      "Standard Deviation: 0.7935836439846778\n"
     ]
    }
   ],
   "source": [
    "import numpy as np\n",
    "\n",
    "values = [1, 2, 3]\n",
    "probs = [0.25, 0.35, 0.4]\n",
    "sample = np.random.choice(values, size=1000, p=probs)\n",
    "\n",
    "mean = np.mean(sample)\n",
    "variance = np.var(sample)\n",
    "std_dev = np.std(sample)\n",
    "\n",
    "print(\"Mean:\", mean)\n",
    "print(\"Variance:\", variance)\n",
    "print(\"Standard Deviation:\", std_dev)\n"
   ]
  },
  {
   "cell_type": "code",
   "execution_count": null,
   "id": "8a30d762",
   "metadata": {},
   "outputs": [],
   "source": [
    "import matplotlib.pyplot as plt\n",
    "from scipy.stats import expon\n",
    "\n",
    "samples = np.random.exponential(scale=5, size=2000)\n",
    "\n",
    "# Histogram\n",
    "plt.hist(samples, bins=50, density=True, alpha=0.6, color='skyblue', label='Histogram')\n",
    "\n",
    "# PDF overlay\n",
    "x = np.linspace(0, max(samples), 1000)\n",
    "plt.plot(x, expon.pdf(x, scale=5), 'r-', label='PDF')\n",
    "plt.title(\"Exponential Distribution (mean=5)\")\n",
    "plt.legend()\n",
    "plt.show()\n"
   ]
  },
  {
   "cell_type": "code",
   "execution_count": null,
   "id": "48f18ac4",
   "metadata": {},
   "outputs": [],
   "source": [
    "uniform_data = np.random.uniform(0, 1, 10000)\n",
    "sample_means = []\n",
    "\n",
    "for _ in range(1000):\n",
    "    sample = np.random.choice(uniform_data, size=30)\n",
    "    sample_means.append(np.mean(sample))\n",
    "\n",
    "# Plotting both distributions\n",
    "plt.figure(figsize=(10,5))\n",
    "\n",
    "plt.subplot(1, 2, 1)\n",
    "plt.hist(uniform_data, bins=50, color='lightgreen', edgecolor='black')\n",
    "plt.title(\"Original Uniform Distribution\")\n",
    "\n",
    "plt.subplot(1, 2, 2)\n",
    "plt.hist(sample_means, bins=50, color='orange', edgecolor='black')\n",
    "plt.title(\"Distribution of Sample Means (CLT)\")\n",
    "\n",
    "plt.tight_layout()\n",
    "plt.show()"
   ]
  }
 ],
 "metadata": {
  "kernelspec": {
   "display_name": ".venv",
   "language": "python",
   "name": "python3"
  },
  "language_info": {
   "codemirror_mode": {
    "name": "ipython",
    "version": 3
   },
   "file_extension": ".py",
   "mimetype": "text/x-python",
   "name": "python",
   "nbconvert_exporter": "python",
   "pygments_lexer": "ipython3",
   "version": "3.13.5"
  }
 },
 "nbformat": 4,
 "nbformat_minor": 5
}
